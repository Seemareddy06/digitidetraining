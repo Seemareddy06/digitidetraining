{
 "cells": [
  {
   "cell_type": "code",
   "execution_count": 9,
   "id": "62137024-fe6d-40f4-a179-b66c715102b5",
   "metadata": {},
   "outputs": [
    {
     "name": "stdout",
     "output_type": "stream",
     "text": [
      "Requirement already satisfied: pypdf in c:\\users\\seema\\.conda\\envs\\seema\\lib\\site-packages (5.9.0)\n",
      "Requirement already satisfied: typing_extensions>=4.0 in c:\\users\\seema\\.conda\\envs\\seema\\lib\\site-packages (from pypdf) (4.14.1)\n"
     ]
    },
    {
     "data": {
      "application/vnd.jupyter.widget-view+json": {
       "model_id": "4e7b31ed2dde4a8ea2b6430df9bf2b16",
       "version_major": 2,
       "version_minor": 0
      },
      "text/plain": [
       "FileUpload(value=(), accept='.txt,.pdf', description='Upload')"
      ]
     },
     "metadata": {},
     "output_type": "display_data"
    },
    {
     "data": {
      "application/vnd.jupyter.widget-view+json": {
       "model_id": "44bbbaf7510d4e15a31fa1feaab1b201",
       "version_major": 2,
       "version_minor": 0
      },
      "text/plain": [
       "Output()"
      ]
     },
     "metadata": {},
     "output_type": "display_data"
    }
   ],
   "source": [
    "!pip install pypdf\n",
    "from ipywidgets import FileUpload, Output\n",
    "from IPython.display import display, clear_output\n",
    "from langchain.document_loaders import TextLoader\n",
    "from langchain_community.document_loaders import PyPDFLoader\n",
    "from langchain.text_splitter import RecursiveCharacterTextSplitter\n",
    "\n",
    "uploader = FileUpload(accept='.txt,.pdf', multiple=False)\n",
    "output = Output()\n",
    "display(uploader, output)\n",
    "\n",
    "def process_upload(change=None):\n",
    "    with output:\n",
    "        clear_output()\n",
    "        if len(uploader.value) == 0:\n",
    "            print(\"Please upload a file.\")\n",
    "            return\n",
    "        \n",
    "        # Access the first uploaded file info as a dictionary\n",
    "        uploaded_file = uploader.value[0]\n",
    "        uploaded_filename = uploaded_file['name']\n",
    "        content = uploaded_file['content']\n",
    "\n",
    "        # Write uploaded content to a file\n",
    "        with open(uploaded_filename, 'wb') as f:\n",
    "            f.write(content)\n",
    "\n",
    "        # Load document based on extension\n",
    "        if uploaded_filename.endswith('.txt'):\n",
    "            loader = TextLoader(uploaded_filename, encoding='utf-8')\n",
    "        elif uploaded_filename.endswith('.pdf'):\n",
    "            loader = PyPDFLoader(uploaded_filename)\n",
    "        else:\n",
    "            print(\"Unsupported file type.\")\n",
    "            return\n",
    "\n",
    "        documents = loader.load()\n",
    "\n",
    "        # Split documents into chunks\n",
    "        splitter = RecursiveCharacterTextSplitter(chunk_size=500, chunk_overlap=50)\n",
    "        chunks = splitter.split_documents(documents)\n",
    "\n",
    "        print(f\"Total chunks created: {len(chunks)}\")\n",
    "\n",
    "# Observe the uploader widget for changes\n",
    "uploader.observe(process_upload, names='value')\n"
   ]
  },
  {
   "cell_type": "code",
   "execution_count": null,
   "id": "37f385af-bab4-4a0c-a426-1794258f62be",
   "metadata": {},
   "outputs": [],
   "source": []
  }
 ],
 "metadata": {
  "kernelspec": {
   "display_name": "Python (seema)",
   "language": "python",
   "name": "seema"
  },
  "language_info": {
   "codemirror_mode": {
    "name": "ipython",
    "version": 3
   },
   "file_extension": ".py",
   "mimetype": "text/x-python",
   "name": "python",
   "nbconvert_exporter": "python",
   "pygments_lexer": "ipython3",
   "version": "3.10.18"
  }
 },
 "nbformat": 4,
 "nbformat_minor": 5
}
